{
 "cells": [
  {
   "cell_type": "code",
   "execution_count": 1,
   "metadata": {
    "collapsed": true
   },
   "outputs": [],
   "source": [
    "%matplotlib inline\n",
    "import pandas as pd\n",
    "import numpy as np\n",
    "from sklearn.preprocessing import StandardScaler\n",
    "from sklearn.decomposition import PCA\n",
    "from sklearn.cluster import KMeans\n",
    "import matplotlib.pyplot as plt"
   ]
  },
  {
   "cell_type": "code",
   "execution_count": 2,
   "metadata": {
    "collapsed": true
   },
   "outputs": [],
   "source": [
    "plt.style.use('ggplot')"
   ]
  },
  {
   "cell_type": "code",
   "execution_count": 3,
   "metadata": {
    "collapsed": false
   },
   "outputs": [],
   "source": [
    "df = pd.read_csv(\"/tmp/books_new.csv\", index_col='Title')"
   ]
  },
  {
   "cell_type": "code",
   "execution_count": 4,
   "metadata": {
    "collapsed": false
   },
   "outputs": [
    {
     "data": {
      "text/html": [
       "<div style=\"max-height:1000px;max-width:1500px;overflow:auto;\">\n",
       "<table border=\"1\" class=\"dataframe\">\n",
       "  <thead>\n",
       "    <tr style=\"text-align: right;\">\n",
       "      <th></th>\n",
       "      <th>Author</th>\n",
       "      <th>Genre</th>\n",
       "      <th>SubGenre</th>\n",
       "      <th>Height</th>\n",
       "      <th>Publisher</th>\n",
       "    </tr>\n",
       "    <tr>\n",
       "      <th>Title</th>\n",
       "      <th></th>\n",
       "      <th></th>\n",
       "      <th></th>\n",
       "      <th></th>\n",
       "      <th></th>\n",
       "    </tr>\n",
       "  </thead>\n",
       "  <tbody>\n",
       "    <tr>\n",
       "      <th>Fundamentals of Wavelets</th>\n",
       "      <td>Goswami, Jaideva</td>\n",
       "      <td>tech</td>\n",
       "      <td>signal_processing</td>\n",
       "      <td>228</td>\n",
       "      <td>Wiley</td>\n",
       "    </tr>\n",
       "    <tr>\n",
       "      <th>Data Smart</th>\n",
       "      <td>Foreman, John</td>\n",
       "      <td>tech</td>\n",
       "      <td>data_science</td>\n",
       "      <td>235</td>\n",
       "      <td>Wiley</td>\n",
       "    </tr>\n",
       "    <tr>\n",
       "      <th>God Created the Integers</th>\n",
       "      <td>Hawking, Stephen</td>\n",
       "      <td>tech</td>\n",
       "      <td>mathematics</td>\n",
       "      <td>197</td>\n",
       "      <td>Penguin</td>\n",
       "    </tr>\n",
       "    <tr>\n",
       "      <th>Superfreakonomics</th>\n",
       "      <td>Dubner, Stephen</td>\n",
       "      <td>science</td>\n",
       "      <td>economics</td>\n",
       "      <td>179</td>\n",
       "      <td>HarperCollins</td>\n",
       "    </tr>\n",
       "    <tr>\n",
       "      <th>Orientalism</th>\n",
       "      <td>Said, Edward</td>\n",
       "      <td>nonfiction</td>\n",
       "      <td>history</td>\n",
       "      <td>197</td>\n",
       "      <td>Penguin</td>\n",
       "    </tr>\n",
       "  </tbody>\n",
       "</table>\n",
       "</div>"
      ],
      "text/plain": [
       "                                    Author       Genre           SubGenre  \\\n",
       "Title                                                                       \n",
       "Fundamentals of Wavelets  Goswami, Jaideva        tech  signal_processing   \n",
       "Data Smart                   Foreman, John        tech       data_science   \n",
       "God Created the Integers  Hawking, Stephen        tech        mathematics   \n",
       "Superfreakonomics          Dubner, Stephen     science          economics   \n",
       "Orientalism                   Said, Edward  nonfiction            history   \n",
       "\n",
       "                          Height      Publisher  \n",
       "Title                                            \n",
       "Fundamentals of Wavelets     228          Wiley  \n",
       "Data Smart                   235          Wiley  \n",
       "God Created the Integers     197        Penguin  \n",
       "Superfreakonomics            179  HarperCollins  \n",
       "Orientalism                  197        Penguin  "
      ]
     },
     "execution_count": 4,
     "metadata": {},
     "output_type": "execute_result"
    }
   ],
   "source": [
    "df.head()"
   ]
  },
  {
   "cell_type": "code",
   "execution_count": 5,
   "metadata": {
    "collapsed": true
   },
   "outputs": [],
   "source": [
    "df['Author'] = df['Author'].astype(str).apply(lambda x: x.split(',')[0].lower())"
   ]
  },
  {
   "cell_type": "code",
   "execution_count": 6,
   "metadata": {
    "collapsed": false
   },
   "outputs": [
    {
     "data": {
      "text/html": [
       "<div style=\"max-height:1000px;max-width:1500px;overflow:auto;\">\n",
       "<table border=\"1\" class=\"dataframe\">\n",
       "  <thead>\n",
       "    <tr style=\"text-align: right;\">\n",
       "      <th></th>\n",
       "      <th>Author</th>\n",
       "      <th>Genre</th>\n",
       "      <th>SubGenre</th>\n",
       "      <th>Height</th>\n",
       "      <th>Publisher</th>\n",
       "    </tr>\n",
       "    <tr>\n",
       "      <th>Title</th>\n",
       "      <th></th>\n",
       "      <th></th>\n",
       "      <th></th>\n",
       "      <th></th>\n",
       "      <th></th>\n",
       "    </tr>\n",
       "  </thead>\n",
       "  <tbody>\n",
       "    <tr>\n",
       "      <th>Fundamentals of Wavelets</th>\n",
       "      <td>goswami</td>\n",
       "      <td>tech</td>\n",
       "      <td>signal_processing</td>\n",
       "      <td>228</td>\n",
       "      <td>Wiley</td>\n",
       "    </tr>\n",
       "    <tr>\n",
       "      <th>Data Smart</th>\n",
       "      <td>foreman</td>\n",
       "      <td>tech</td>\n",
       "      <td>data_science</td>\n",
       "      <td>235</td>\n",
       "      <td>Wiley</td>\n",
       "    </tr>\n",
       "    <tr>\n",
       "      <th>God Created the Integers</th>\n",
       "      <td>hawking</td>\n",
       "      <td>tech</td>\n",
       "      <td>mathematics</td>\n",
       "      <td>197</td>\n",
       "      <td>Penguin</td>\n",
       "    </tr>\n",
       "    <tr>\n",
       "      <th>Superfreakonomics</th>\n",
       "      <td>dubner</td>\n",
       "      <td>science</td>\n",
       "      <td>economics</td>\n",
       "      <td>179</td>\n",
       "      <td>HarperCollins</td>\n",
       "    </tr>\n",
       "    <tr>\n",
       "      <th>Orientalism</th>\n",
       "      <td>said</td>\n",
       "      <td>nonfiction</td>\n",
       "      <td>history</td>\n",
       "      <td>197</td>\n",
       "      <td>Penguin</td>\n",
       "    </tr>\n",
       "  </tbody>\n",
       "</table>\n",
       "</div>"
      ],
      "text/plain": [
       "                           Author       Genre           SubGenre  Height  \\\n",
       "Title                                                                      \n",
       "Fundamentals of Wavelets  goswami        tech  signal_processing     228   \n",
       "Data Smart                foreman        tech       data_science     235   \n",
       "God Created the Integers  hawking        tech        mathematics     197   \n",
       "Superfreakonomics          dubner     science          economics     179   \n",
       "Orientalism                  said  nonfiction            history     197   \n",
       "\n",
       "                              Publisher  \n",
       "Title                                    \n",
       "Fundamentals of Wavelets          Wiley  \n",
       "Data Smart                        Wiley  \n",
       "God Created the Integers        Penguin  \n",
       "Superfreakonomics         HarperCollins  \n",
       "Orientalism                     Penguin  "
      ]
     },
     "execution_count": 6,
     "metadata": {},
     "output_type": "execute_result"
    }
   ],
   "source": [
    "df.head()"
   ]
  },
  {
   "cell_type": "code",
   "execution_count": 7,
   "metadata": {
    "collapsed": false
   },
   "outputs": [
    {
     "data": {
      "text/plain": [
       "126"
      ]
     },
     "execution_count": 7,
     "metadata": {},
     "output_type": "execute_result"
    }
   ],
   "source": [
    "df.Author.nunique()"
   ]
  },
  {
   "cell_type": "code",
   "execution_count": 8,
   "metadata": {
    "collapsed": false
   },
   "outputs": [
    {
     "data": {
      "text/plain": [
       "5"
      ]
     },
     "execution_count": 8,
     "metadata": {},
     "output_type": "execute_result"
    }
   ],
   "source": [
    "df.Genre.nunique()"
   ]
  },
  {
   "cell_type": "code",
   "execution_count": 9,
   "metadata": {
    "collapsed": false
   },
   "outputs": [
    {
     "data": {
      "text/plain": [
       "22"
      ]
     },
     "execution_count": 9,
     "metadata": {},
     "output_type": "execute_result"
    }
   ],
   "source": [
    "df.SubGenre.nunique()"
   ]
  },
  {
   "cell_type": "code",
   "execution_count": 10,
   "metadata": {
    "collapsed": true
   },
   "outputs": [],
   "source": [
    "X = np.c_[pd.get_dummies(df.Author).values, pd.get_dummies(df.Genre).values,\n",
    "          pd.get_dummies(df.SubGenre).values, df.Height.values.astype(float)]"
   ]
  },
  {
   "cell_type": "code",
   "execution_count": 11,
   "metadata": {
    "collapsed": false
   },
   "outputs": [
    {
     "data": {
      "text/plain": [
       "(211, 154)"
      ]
     },
     "execution_count": 11,
     "metadata": {},
     "output_type": "execute_result"
    }
   ],
   "source": [
    "X.shape"
   ]
  },
  {
   "cell_type": "code",
   "execution_count": 12,
   "metadata": {
    "collapsed": false
   },
   "outputs": [
    {
     "data": {
      "text/plain": [
       "153"
      ]
     },
     "execution_count": 12,
     "metadata": {},
     "output_type": "execute_result"
    }
   ],
   "source": [
    "126 + 5 + 22"
   ]
  },
  {
   "cell_type": "code",
   "execution_count": 13,
   "metadata": {
    "collapsed": true
   },
   "outputs": [],
   "source": [
    "scaler = StandardScaler()\n",
    "X = scaler.fit_transform(X)"
   ]
  },
  {
   "cell_type": "code",
   "execution_count": 14,
   "metadata": {
    "collapsed": true
   },
   "outputs": [],
   "source": [
    "pca = PCA(n_components=2)"
   ]
  },
  {
   "cell_type": "code",
   "execution_count": 15,
   "metadata": {
    "collapsed": true
   },
   "outputs": [],
   "source": [
    "x_red = pca.fit_transform(X)"
   ]
  },
  {
   "cell_type": "code",
   "execution_count": 16,
   "metadata": {
    "collapsed": true
   },
   "outputs": [],
   "source": [
    "from scipy.spatial import ConvexHull"
   ]
  },
  {
   "cell_type": "code",
   "execution_count": 17,
   "metadata": {
    "collapsed": true
   },
   "outputs": [],
   "source": [
    "hull = ConvexHull(x_red)"
   ]
  },
  {
   "cell_type": "code",
   "execution_count": 18,
   "metadata": {
    "collapsed": false
   },
   "outputs": [
    {
     "data": {
      "image/png": "[encoded data removed]",
      "text/plain": [
       "<matplotlib.figure.Figure at 0x7f43de416890>"
      ]
     },
     "metadata": {},
     "output_type": "display_data"
    }
   ],
   "source": [
    "plt.figure(figsize=(10, 10))\n",
    "plt.scatter(x_red[:, 0], x_red[:, 1], s=50)\n",
    "for vertex in hull.vertices:\n",
    "    plt.annotate(df.index[vertex], xy=x_red[vertex, :])"
   ]
  },
  {
   "cell_type": "code",
   "execution_count": 19,
   "metadata": {
    "collapsed": true
   },
   "outputs": [],
   "source": [
    "km = KMeans(n_clusters=6, n_jobs=-1)\n",
    "clusters = km.fit_predict(x_red)"
   ]
  },
  {
   "cell_type": "code",
   "execution_count": 20,
   "metadata": {
    "collapsed": false
   },
   "outputs": [
    {
     "data": {
      "image/png": "[encoded data removed]",
      "text/plain": [
       "<matplotlib.figure.Figure at 0x7f4409eff2d0>"
      ]
     },
     "metadata": {},
     "output_type": "display_data"
    }
   ],
   "source": [
    "#0,1 denote PC1 and PC2; change values for other PCs\n",
    "xvector = pca.components_[0] # see 'prcomp(my_data)$rotation' in R\n",
    "yvector = pca.components_[1]\n",
    "\n",
    "xs = pca.transform(X)[:,0] # see 'prcomp(my_data)$x' in R\n",
    "ys = pca.transform(X)[:,1]\n",
    "\n",
    "\n",
    "\n",
    "columns = ['author_{}'.format(i) for i in range(df.Author.nunique())] + \\\n",
    "          ['genre_{}'.format(i) for i in range(df.Genre.nunique())] + \\\n",
    "          ['subgenre_{}'.format(i) for i in range(df.SubGenre.nunique())] + ['Height']\n",
    "## visualize projections\n",
    "    \n",
    "## Note: scale values for arrows and text are a bit inelegant as of now,\n",
    "##       so feel free to play around with them\n",
    "\n",
    "plt.figure(figsize=(15, 15))\n",
    "\n",
    "for i in range(len(xvector)):\n",
    "# arrows project features (ie columns from csv) as vectors onto PC axes\n",
    "    plt.arrow(0, 0, xvector[i]*max(xs), yvector[i]*max(ys),\n",
    "              color='r', width=0.0005, head_width=0.0025)\n",
    "    plt.text(xvector[i]*max(xs)*1.2, yvector[i]*max(ys)*1.2,\n",
    "             list(columns)[i], color='r')\n",
    "\n",
    "#for i in range(len(xs)):\n",
    "# circles project documents (ie rows from csv) as points onto PC axes\n",
    "#    plt.plot(xs[i], ys[i], 'bo')\n",
    "#    plt.text(xs[i]*1.2, ys[i]*1.2, list(df.index)[i], color='b')\n",
    "plt.scatter(xs, ys, c=clusters, s=50)\n",
    "\n",
    "for vertex in hull.vertices:\n",
    "    plt.annotate(df.index[vertex], xy=x_red[vertex, :])\n",
    "\n",
    "#plt.show()"
   ]
  },
  {
   "cell_type": "code",
   "execution_count": 21,
   "metadata": {
    "collapsed": false
   },
   "outputs": [],
   "source": [
    "df['cluster'] = clusters"
   ]
  },
  {
   "cell_type": "code",
   "execution_count": 22,
   "metadata": {
    "collapsed": false
   },
   "outputs": [
    {
     "data": {
      "text/plain": [
       "2    64\n",
       "1    60\n",
       "3    35\n",
       "5    24\n",
       "0    15\n",
       "4    13\n",
       "dtype: int64"
      ]
     },
     "execution_count": 22,
     "metadata": {},
     "output_type": "execute_result"
    }
   ],
   "source": [
    "df.cluster.value_counts()"
   ]
  },
  {
   "cell_type": "code",
   "execution_count": 28,
   "metadata": {
    "collapsed": false
   },
   "outputs": [
    {
     "data": {
      "text/html": [
       "<div style=\"max-height:1000px;max-width:1500px;overflow:auto;\">\n",
       "<table border=\"1\" class=\"dataframe\">\n",
       "  <thead>\n",
       "    <tr style=\"text-align: right;\">\n",
       "      <th></th>\n",
       "      <th>Author</th>\n",
       "      <th>Genre</th>\n",
       "      <th>SubGenre</th>\n",
       "      <th>Height</th>\n",
       "      <th>Publisher</th>\n",
       "      <th>cluster</th>\n",
       "    </tr>\n",
       "    <tr>\n",
       "      <th>Title</th>\n",
       "      <th></th>\n",
       "      <th></th>\n",
       "      <th></th>\n",
       "      <th></th>\n",
       "      <th></th>\n",
       "      <th></th>\n",
       "    </tr>\n",
       "  </thead>\n",
       "  <tbody>\n",
       "    <tr>\n",
       "      <th>Superfreakonomics</th>\n",
       "      <td>dubner</td>\n",
       "      <td>science</td>\n",
       "      <td>economics</td>\n",
       "      <td>179</td>\n",
       "      <td>HarperCollins</td>\n",
       "      <td>5</td>\n",
       "    </tr>\n",
       "    <tr>\n",
       "      <th>Physics &amp; Philosophy</th>\n",
       "      <td>heisenberg</td>\n",
       "      <td>philosophy</td>\n",
       "      <td>science</td>\n",
       "      <td>197</td>\n",
       "      <td>Penguin</td>\n",
       "      <td>5</td>\n",
       "    </tr>\n",
       "    <tr>\n",
       "      <th>Wealth of Nations, The</th>\n",
       "      <td>smith</td>\n",
       "      <td>science</td>\n",
       "      <td>economics</td>\n",
       "      <td>175</td>\n",
       "      <td>Random House</td>\n",
       "      <td>5</td>\n",
       "    </tr>\n",
       "    <tr>\n",
       "      <th>Tao of Physics, The</th>\n",
       "      <td>capra</td>\n",
       "      <td>science</td>\n",
       "      <td>physics</td>\n",
       "      <td>179</td>\n",
       "      <td>Penguin</td>\n",
       "      <td>5</td>\n",
       "    </tr>\n",
       "    <tr>\n",
       "      <th>Surely You're Joking Mr Feynman</th>\n",
       "      <td>feynman</td>\n",
       "      <td>science</td>\n",
       "      <td>physics</td>\n",
       "      <td>198</td>\n",
       "      <td>Random House</td>\n",
       "      <td>5</td>\n",
       "    </tr>\n",
       "    <tr>\n",
       "      <th>Return of the Primitive</th>\n",
       "      <td>rand</td>\n",
       "      <td>philosophy</td>\n",
       "      <td>objectivism</td>\n",
       "      <td>202</td>\n",
       "      <td>Penguin</td>\n",
       "      <td>5</td>\n",
       "    </tr>\n",
       "    <tr>\n",
       "      <th>Hidden Connections, The</th>\n",
       "      <td>capra</td>\n",
       "      <td>science</td>\n",
       "      <td>physics</td>\n",
       "      <td>197</td>\n",
       "      <td>HarperCollins</td>\n",
       "      <td>5</td>\n",
       "    </tr>\n",
       "    <tr>\n",
       "      <th>Idea of Justice, The</th>\n",
       "      <td>sen</td>\n",
       "      <td>philosophy</td>\n",
       "      <td>economics</td>\n",
       "      <td>212</td>\n",
       "      <td>Penguin</td>\n",
       "      <td>5</td>\n",
       "    </tr>\n",
       "    <tr>\n",
       "      <th>Beyond Degrees</th>\n",
       "      <td>nan</td>\n",
       "      <td>philosophy</td>\n",
       "      <td>education</td>\n",
       "      <td>222</td>\n",
       "      <td>HarperCollins</td>\n",
       "      <td>5</td>\n",
       "    </tr>\n",
       "    <tr>\n",
       "      <th>On Education</th>\n",
       "      <td>russell</td>\n",
       "      <td>philosophy</td>\n",
       "      <td>education</td>\n",
       "      <td>203</td>\n",
       "      <td>Routledge</td>\n",
       "      <td>5</td>\n",
       "    </tr>\n",
       "    <tr>\n",
       "      <th>New Markets &amp; Other Essays</th>\n",
       "      <td>drucker</td>\n",
       "      <td>science</td>\n",
       "      <td>economics</td>\n",
       "      <td>176</td>\n",
       "      <td>Penguin</td>\n",
       "      <td>5</td>\n",
       "    </tr>\n",
       "    <tr>\n",
       "      <th>Electric Universe</th>\n",
       "      <td>bodanis</td>\n",
       "      <td>science</td>\n",
       "      <td>physics</td>\n",
       "      <td>201</td>\n",
       "      <td>Penguin</td>\n",
       "      <td>5</td>\n",
       "    </tr>\n",
       "    <tr>\n",
       "      <th>Identity &amp; Violence</th>\n",
       "      <td>sen</td>\n",
       "      <td>philosophy</td>\n",
       "      <td>philosophy</td>\n",
       "      <td>219</td>\n",
       "      <td>Penguin</td>\n",
       "      <td>5</td>\n",
       "    </tr>\n",
       "    <tr>\n",
       "      <th>History of Western Philosophy</th>\n",
       "      <td>russell</td>\n",
       "      <td>philosophy</td>\n",
       "      <td>philosophy</td>\n",
       "      <td>213</td>\n",
       "      <td>Routledge</td>\n",
       "      <td>5</td>\n",
       "    </tr>\n",
       "    <tr>\n",
       "      <th>Unpopular Essays</th>\n",
       "      <td>russell</td>\n",
       "      <td>philosophy</td>\n",
       "      <td>philosophy</td>\n",
       "      <td>198</td>\n",
       "      <td>NaN</td>\n",
       "      <td>5</td>\n",
       "    </tr>\n",
       "    <tr>\n",
       "      <th>Political Philosophers</th>\n",
       "      <td>nan</td>\n",
       "      <td>philosophy</td>\n",
       "      <td>politics</td>\n",
       "      <td>162</td>\n",
       "      <td>NaN</td>\n",
       "      <td>5</td>\n",
       "    </tr>\n",
       "    <tr>\n",
       "      <th>Ayn Rand Answers</th>\n",
       "      <td>rand</td>\n",
       "      <td>philosophy</td>\n",
       "      <td>objectivism</td>\n",
       "      <td>203</td>\n",
       "      <td>NaN</td>\n",
       "      <td>5</td>\n",
       "    </tr>\n",
       "    <tr>\n",
       "      <th>Philosophy: Who Needs It</th>\n",
       "      <td>rand</td>\n",
       "      <td>philosophy</td>\n",
       "      <td>objectivism</td>\n",
       "      <td>171</td>\n",
       "      <td>NaN</td>\n",
       "      <td>5</td>\n",
       "    </tr>\n",
       "    <tr>\n",
       "      <th>World's Great Thinkers, The</th>\n",
       "      <td>nan</td>\n",
       "      <td>science</td>\n",
       "      <td>physics</td>\n",
       "      <td>189</td>\n",
       "      <td>NaN</td>\n",
       "      <td>5</td>\n",
       "    </tr>\n",
       "    <tr>\n",
       "      <th>Broca's Brain</th>\n",
       "      <td>sagan</td>\n",
       "      <td>science</td>\n",
       "      <td>physics</td>\n",
       "      <td>174</td>\n",
       "      <td>NaN</td>\n",
       "      <td>5</td>\n",
       "    </tr>\n",
       "    <tr>\n",
       "      <th>Arthashastra, The</th>\n",
       "      <td>kautiyla</td>\n",
       "      <td>philosophy</td>\n",
       "      <td>philosophy</td>\n",
       "      <td>214</td>\n",
       "      <td>NaN</td>\n",
       "      <td>5</td>\n",
       "    </tr>\n",
       "    <tr>\n",
       "      <th>We the People</th>\n",
       "      <td>palkhivala</td>\n",
       "      <td>philosophy</td>\n",
       "      <td>philosophy</td>\n",
       "      <td>216</td>\n",
       "      <td>NaN</td>\n",
       "      <td>5</td>\n",
       "    </tr>\n",
       "    <tr>\n",
       "      <th>We the Nation</th>\n",
       "      <td>palkhivala</td>\n",
       "      <td>philosophy</td>\n",
       "      <td>philosophy</td>\n",
       "      <td>216</td>\n",
       "      <td>NaN</td>\n",
       "      <td>5</td>\n",
       "    </tr>\n",
       "    <tr>\n",
       "      <th>Murphy's Law</th>\n",
       "      <td>nan</td>\n",
       "      <td>philosophy</td>\n",
       "      <td>psychology</td>\n",
       "      <td>178</td>\n",
       "      <td>NaN</td>\n",
       "      <td>5</td>\n",
       "    </tr>\n",
       "  </tbody>\n",
       "</table>\n",
       "</div>"
      ],
      "text/plain": [
       "                                     Author       Genre     SubGenre  Height  \\\n",
       "Title                                                                          \n",
       "Superfreakonomics                    dubner     science    economics     179   \n",
       "Physics & Philosophy             heisenberg  philosophy      science     197   \n",
       "Wealth of Nations, The                smith     science    economics     175   \n",
       "Tao of Physics, The                   capra     science      physics     179   \n",
       "Surely You're Joking Mr Feynman     feynman     science      physics     198   \n",
       "Return of the Primitive                rand  philosophy  objectivism     202   \n",
       "Hidden Connections, The               capra     science      physics     197   \n",
       "Idea of Justice, The                    sen  philosophy    economics     212   \n",
       "Beyond Degrees                          nan  philosophy    education     222   \n",
       "On Education                        russell  philosophy    education     203   \n",
       "New Markets & Other Essays          drucker     science    economics     176   \n",
       "Electric Universe                   bodanis     science      physics     201   \n",
       "Identity & Violence                     sen  philosophy   philosophy     219   \n",
       "History of Western Philosophy       russell  philosophy   philosophy     213   \n",
       "Unpopular Essays                    russell  philosophy   philosophy     198   \n",
       "Political Philosophers                  nan  philosophy     politics     162   \n",
       "Ayn Rand Answers                       rand  philosophy  objectivism     203   \n",
       "Philosophy: Who Needs It               rand  philosophy  objectivism     171   \n",
       "World's Great Thinkers, The             nan     science      physics     189   \n",
       "Broca's Brain                         sagan     science      physics     174   \n",
       "Arthashastra, The                  kautiyla  philosophy   philosophy     214   \n",
       "We the People                    palkhivala  philosophy   philosophy     216   \n",
       "We the Nation                    palkhivala  philosophy   philosophy     216   \n",
       "Murphy's Law                            nan  philosophy   psychology     178   \n",
       "\n",
       "                                     Publisher  cluster  \n",
       "Title                                                    \n",
       "Superfreakonomics                HarperCollins        5  \n",
       "Physics & Philosophy                   Penguin        5  \n",
       "Wealth of Nations, The            Random House        5  \n",
       "Tao of Physics, The                    Penguin        5  \n",
       "Surely You're Joking Mr Feynman   Random House        5  \n",
       "Return of the Primitive                Penguin        5  \n",
       "Hidden Connections, The          HarperCollins        5  \n",
       "Idea of Justice, The                   Penguin        5  \n",
       "Beyond Degrees                   HarperCollins        5  \n",
       "On Education                         Routledge        5  \n",
       "New Markets & Other Essays             Penguin        5  \n",
       "Electric Universe                      Penguin        5  \n",
       "Identity & Violence                    Penguin        5  \n",
       "History of Western Philosophy        Routledge        5  \n",
       "Unpopular Essays                           NaN        5  \n",
       "Political Philosophers                     NaN        5  \n",
       "Ayn Rand Answers                           NaN        5  \n",
       "Philosophy: Who Needs It                   NaN        5  \n",
       "World's Great Thinkers, The                NaN        5  \n",
       "Broca's Brain                              NaN        5  \n",
       "Arthashastra, The                          NaN        5  \n",
       "We the People                              NaN        5  \n",
       "We the Nation                              NaN        5  \n",
       "Murphy's Law                               NaN        5  "
      ]
     },
     "execution_count": 28,
     "metadata": {},
     "output_type": "execute_result"
    }
   ],
   "source": [
    "df[df.cluster == 5]"
   ]
  },
  {
   "cell_type": "code",
   "execution_count": null,
   "metadata": {
    "collapsed": true
   },
   "outputs": [],
   "source": [
    "{}"
   ]
  }
 ],
 "metadata": {
  "kernelspec": {
   "display_name": "Python 2",
   "language": "python",
   "name": "python2"
  },
  "language_info": {
   "codemirror_mode": {
    "name": "ipython",
    "version": 2
   },
   "file_extension": ".py",
   "mimetype": "text/x-python",
   "name": "python",
   "nbconvert_exporter": "python",
   "pygments_lexer": "ipython2",
   "version": "2.7.10"
  }
 },
 "nbformat": 4,
 "nbformat_minor": 0
}
