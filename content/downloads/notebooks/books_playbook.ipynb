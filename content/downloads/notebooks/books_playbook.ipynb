{
 "cells": [
  {
   "cell_type": "code",
   "execution_count": 1,
   "metadata": {
    "collapsed": true
   },
   "outputs": [],
   "source": [
    "%matplotlib inline\n",
    "import pandas as pd\n",
    "import numpy as np\n",
    "from sklearn.preprocessing import StandardScaler\n",
    "from sklearn.decomposition import PCA\n",
    "from sklearn.cluster import KMeans\n",
    "import matplotlib.pyplot as plt"
   ]
  },
  {
   "cell_type": "code",
   "execution_count": 2,
   "metadata": {
    "collapsed": true
   },
   "outputs": [],
   "source": [
    "plt.style.use('ggplot')"
   ]
  },
  {
   "cell_type": "code",
   "execution_count": 3,
   "metadata": {
    "collapsed": true
   },
   "outputs": [],
   "source": [
    "df = pd.read_csv(\"books.csv\", index_col='Title')"
   ]
  },
  {
   "cell_type": "code",
   "execution_count": 4,
   "metadata": {
    "collapsed": false
   },
   "outputs": [
    {
     "data": {
      "text/html": [
       "<div style=\"max-height:1000px;max-width:1500px;overflow:auto;\">\n",
       "<table border=\"1\" class=\"dataframe\">\n",
       "  <thead>\n",
       "    <tr style=\"text-align: right;\">\n",
       "      <th></th>\n",
       "      <th>Author</th>\n",
       "      <th>Genre</th>\n",
       "      <th>Height</th>\n",
       "      <th>Publisher</th>\n",
       "    </tr>\n",
       "    <tr>\n",
       "      <th>Title</th>\n",
       "      <th></th>\n",
       "      <th></th>\n",
       "      <th></th>\n",
       "      <th></th>\n",
       "    </tr>\n",
       "  </thead>\n",
       "  <tbody>\n",
       "    <tr>\n",
       "      <th>Fundamentals of Wavelets</th>\n",
       "      <td>Goswami, Jaideva</td>\n",
       "      <td>signal_processing</td>\n",
       "      <td>228</td>\n",
       "      <td>Wiley</td>\n",
       "    </tr>\n",
       "    <tr>\n",
       "      <th>Data Smart</th>\n",
       "      <td>Foreman, John</td>\n",
       "      <td>data_science</td>\n",
       "      <td>235</td>\n",
       "      <td>Wiley</td>\n",
       "    </tr>\n",
       "    <tr>\n",
       "      <th>God Created the Integers</th>\n",
       "      <td>Hawking, Stephen</td>\n",
       "      <td>mathematics</td>\n",
       "      <td>197</td>\n",
       "      <td>Penguin</td>\n",
       "    </tr>\n",
       "    <tr>\n",
       "      <th>Superfreakonomics</th>\n",
       "      <td>Dubner, Stephen</td>\n",
       "      <td>economics</td>\n",
       "      <td>179</td>\n",
       "      <td>HarperCollins</td>\n",
       "    </tr>\n",
       "    <tr>\n",
       "      <th>Orientalism</th>\n",
       "      <td>Said, Edward</td>\n",
       "      <td>history</td>\n",
       "      <td>197</td>\n",
       "      <td>Penguin</td>\n",
       "    </tr>\n",
       "  </tbody>\n",
       "</table>\n",
       "</div>"
      ],
      "text/plain": [
       "                                    Author              Genre  Height  \\\n",
       "Title                                                                   \n",
       "Fundamentals of Wavelets  Goswami, Jaideva  signal_processing     228   \n",
       "Data Smart                   Foreman, John       data_science     235   \n",
       "God Created the Integers  Hawking, Stephen        mathematics     197   \n",
       "Superfreakonomics          Dubner, Stephen          economics     179   \n",
       "Orientalism                   Said, Edward            history     197   \n",
       "\n",
       "                              Publisher  \n",
       "Title                                    \n",
       "Fundamentals of Wavelets          Wiley  \n",
       "Data Smart                        Wiley  \n",
       "God Created the Integers        Penguin  \n",
       "Superfreakonomics         HarperCollins  \n",
       "Orientalism                     Penguin  "
      ]
     },
     "execution_count": 4,
     "metadata": {},
     "output_type": "execute_result"
    }
   ],
   "source": [
    "df.head()"
   ]
  },
  {
   "cell_type": "code",
   "execution_count": 5,
   "metadata": {
    "collapsed": true
   },
   "outputs": [],
   "source": [
    "df['Author'] = df['Author'].astype(str).apply(lambda x: x.split(',')[0].lower())"
   ]
  },
  {
   "cell_type": "code",
   "execution_count": 6,
   "metadata": {
    "collapsed": false
   },
   "outputs": [
    {
     "data": {
      "text/html": [
       "<div style=\"max-height:1000px;max-width:1500px;overflow:auto;\">\n",
       "<table border=\"1\" class=\"dataframe\">\n",
       "  <thead>\n",
       "    <tr style=\"text-align: right;\">\n",
       "      <th></th>\n",
       "      <th>Author</th>\n",
       "      <th>Genre</th>\n",
       "      <th>Height</th>\n",
       "      <th>Publisher</th>\n",
       "    </tr>\n",
       "    <tr>\n",
       "      <th>Title</th>\n",
       "      <th></th>\n",
       "      <th></th>\n",
       "      <th></th>\n",
       "      <th></th>\n",
       "    </tr>\n",
       "  </thead>\n",
       "  <tbody>\n",
       "    <tr>\n",
       "      <th>Fundamentals of Wavelets</th>\n",
       "      <td>goswami</td>\n",
       "      <td>signal_processing</td>\n",
       "      <td>228</td>\n",
       "      <td>Wiley</td>\n",
       "    </tr>\n",
       "    <tr>\n",
       "      <th>Data Smart</th>\n",
       "      <td>foreman</td>\n",
       "      <td>data_science</td>\n",
       "      <td>235</td>\n",
       "      <td>Wiley</td>\n",
       "    </tr>\n",
       "    <tr>\n",
       "      <th>God Created the Integers</th>\n",
       "      <td>hawking</td>\n",
       "      <td>mathematics</td>\n",
       "      <td>197</td>\n",
       "      <td>Penguin</td>\n",
       "    </tr>\n",
       "    <tr>\n",
       "      <th>Superfreakonomics</th>\n",
       "      <td>dubner</td>\n",
       "      <td>economics</td>\n",
       "      <td>179</td>\n",
       "      <td>HarperCollins</td>\n",
       "    </tr>\n",
       "    <tr>\n",
       "      <th>Orientalism</th>\n",
       "      <td>said</td>\n",
       "      <td>history</td>\n",
       "      <td>197</td>\n",
       "      <td>Penguin</td>\n",
       "    </tr>\n",
       "  </tbody>\n",
       "</table>\n",
       "</div>"
      ],
      "text/plain": [
       "                           Author              Genre  Height      Publisher\n",
       "Title                                                                      \n",
       "Fundamentals of Wavelets  goswami  signal_processing     228          Wiley\n",
       "Data Smart                foreman       data_science     235          Wiley\n",
       "God Created the Integers  hawking        mathematics     197        Penguin\n",
       "Superfreakonomics          dubner          economics     179  HarperCollins\n",
       "Orientalism                  said            history     197        Penguin"
      ]
     },
     "execution_count": 6,
     "metadata": {},
     "output_type": "execute_result"
    }
   ],
   "source": [
    "df.head()"
   ]
  },
  {
   "cell_type": "code",
   "execution_count": 7,
   "metadata": {
    "collapsed": false
   },
   "outputs": [
    {
     "data": {
      "text/plain": [
       "126"
      ]
     },
     "execution_count": 7,
     "metadata": {},
     "output_type": "execute_result"
    }
   ],
   "source": [
    "df.Author.nunique()"
   ]
  },
  {
   "cell_type": "code",
   "execution_count": 8,
   "metadata": {
    "collapsed": false
   },
   "outputs": [
    {
     "data": {
      "text/plain": [
       "12"
      ]
     },
     "execution_count": 8,
     "metadata": {},
     "output_type": "execute_result"
    }
   ],
   "source": [
    "df.Genre.nunique()"
   ]
  },
  {
   "cell_type": "code",
   "execution_count": 9,
   "metadata": {
    "collapsed": true
   },
   "outputs": [],
   "source": [
    "X = np.c_[pd.get_dummies(df.Author).values, pd.get_dummies(df.Genre).values, df.Height.values.astype(float)]"
   ]
  },
  {
   "cell_type": "code",
   "execution_count": 10,
   "metadata": {
    "collapsed": false
   },
   "outputs": [
    {
     "data": {
      "text/plain": [
       "(211, 139)"
      ]
     },
     "execution_count": 10,
     "metadata": {},
     "output_type": "execute_result"
    }
   ],
   "source": [
    "X.shape"
   ]
  },
  {
   "cell_type": "code",
   "execution_count": 11,
   "metadata": {
    "collapsed": false
   },
   "outputs": [
    {
     "data": {
      "text/plain": [
       "139"
      ]
     },
     "execution_count": 11,
     "metadata": {},
     "output_type": "execute_result"
    }
   ],
   "source": [
    "126 + 13"
   ]
  },
  {
   "cell_type": "code",
   "execution_count": 12,
   "metadata": {
    "collapsed": true
   },
   "outputs": [],
   "source": [
    "scaler = StandardScaler()\n",
    "X = scaler.fit_transform(X)"
   ]
  },
  {
   "cell_type": "code",
   "execution_count": 13,
   "metadata": {
    "collapsed": true
   },
   "outputs": [],
   "source": [
    "pca = PCA(n_components=2)"
   ]
  },
  {
   "cell_type": "code",
   "execution_count": 14,
   "metadata": {
    "collapsed": true
   },
   "outputs": [],
   "source": [
    "x_red = pca.fit_transform(X)"
   ]
  },
  {
   "cell_type": "code",
   "execution_count": 15,
   "metadata": {
    "collapsed": true
   },
   "outputs": [],
   "source": [
    "from scipy.spatial import ConvexHull"
   ]
  },
  {
   "cell_type": "code",
   "execution_count": 16,
   "metadata": {
    "collapsed": true
   },
   "outputs": [],
   "source": [
    "hull = ConvexHull(x_red)"
   ]
  },
  {
   "cell_type": "code",
   "execution_count": 17,
   "metadata": {
    "collapsed": false
   },
   "outputs": [
    {
     "data": {
      "image/png": "[encoded data removed]",
      "text/plain": [
       "<matplotlib.figure.Figure at 0x7fa685028b50>"
      ]
     },
     "metadata": {},
     "output_type": "display_data"
    }
   ],
   "source": [
    "plt.figure(figsize=(10, 10))\n",
    "plt.scatter(x_red[:, 0], x_red[:, 1], s=50)\n",
    "for vertex in hull.vertices:\n",
    "    plt.annotate(df.index[vertex], xy=x_red[vertex, :])"
   ]
  },
  {
   "cell_type": "code",
   "execution_count": 33,
   "metadata": {
    "collapsed": true
   },
   "outputs": [],
   "source": [
    "km = KMeans(n_clusters=6, n_jobs=-1)\n",
    "clusters = km.fit_predict(x_red)"
   ]
  },
  {
   "cell_type": "code",
   "execution_count": 37,
   "metadata": {
    "collapsed": false
   },
   "outputs": [
    {
     "data": {
      "image/png": "[encoded data removed]",
      "text/plain": [
       "<matplotlib.figure.Figure at 0x7fa6847aded0>"
      ]
     },
     "metadata": {},
     "output_type": "display_data"
    }
   ],
   "source": [
    "#0,1 denote PC1 and PC2; change values for other PCs\n",
    "xvector = pca.components_[0] # see 'prcomp(my_data)$rotation' in R\n",
    "yvector = pca.components_[1]\n",
    "\n",
    "xs = pca.transform(X)[:,0] # see 'prcomp(my_data)$x' in R\n",
    "ys = pca.transform(X)[:,1]\n",
    "\n",
    "\n",
    "\n",
    "columns = ['author_{}'.format(i) for i in range(df.Author.nunique())] + \\\n",
    "          ['genre_{}'.format(i) for i in range(df.Genre.nunique())] + ['Height']\n",
    "## visualize projections\n",
    "    \n",
    "## Note: scale values for arrows and text are a bit inelegant as of now,\n",
    "##       so feel free to play around with them\n",
    "\n",
    "plt.figure(figsize=(15, 15))\n",
    "\n",
    "for i in range(len(xvector)):\n",
    "# arrows project features (ie columns from csv) as vectors onto PC axes\n",
    "    plt.arrow(0, 0, xvector[i]*max(xs), yvector[i]*max(ys),\n",
    "              color='r', width=0.0005, head_width=0.0025)\n",
    "    plt.text(xvector[i]*max(xs)*1.2, yvector[i]*max(ys)*1.2,\n",
    "             list(columns)[i], color='r')\n",
    "\n",
    "#for i in range(len(xs)):\n",
    "# circles project documents (ie rows from csv) as points onto PC axes\n",
    "#    plt.plot(xs[i], ys[i], 'bo')\n",
    "#    plt.text(xs[i]*1.2, ys[i]*1.2, list(df.index)[i], color='b')\n",
    "plt.scatter(xs, ys, c=clusters, s=50)\n",
    "\n",
    "for vertex in hull.vertices:\n",
    "    plt.annotate(df.index[vertex], xy=x_red[vertex, :])\n",
    "\n",
    "#plt.show()"
   ]
  },
  {
   "cell_type": "code",
   "execution_count": 32,
   "metadata": {
    "collapsed": false
   },
   "outputs": [
    {
     "name": "stdout",
     "output_type": "stream",
     "text": [
      "['genre_1' 'author_79' 'genre_2' 'genre_0' 'Height']\n"
     ]
    }
   ],
   "source": [
    "cols = np.array(columns)\n",
    "maxix = (xvector*max(xs)).argsort()[::-1]\n",
    "print cols[maxix[-5:]]"
   ]
  },
  {
   "cell_type": "code",
   "execution_count": 30,
   "metadata": {
    "collapsed": false
   },
   "outputs": [
    {
     "name": "stdout",
     "output_type": "stream",
     "text": [
      "['genre_4' 'genre_2' 'author_40' 'author_73' 'author_21']\n"
     ]
    }
   ],
   "source": [
    "maxix = (yvector*max(ys)).argsort()[::-1]\n",
    "print cols[maxix[:5]]"
   ]
  },
  {
   "cell_type": "code",
   "execution_count": 37,
   "metadata": {
    "collapsed": false
   },
   "outputs": [
    {
     "data": {
      "text/plain": [
       "'Veil: Secret Wars of the CIA'"
      ]
     },
     "execution_count": 37,
     "metadata": {},
     "output_type": "execute_result"
    }
   ],
   "source": [
    "df.index[125]"
   ]
  },
  {
   "cell_type": "code",
   "execution_count": 38,
   "metadata": {
    "collapsed": false
   },
   "outputs": [
    {
     "data": {
      "text/plain": [
       "array([2, 5, 0, 3, 4, 5, 4, 3, 2, 2, 5, 1, 2, 2, 4, 1, 5, 5, 1, 3, 2, 2, 5,\n",
       "       5, 5, 2, 3, 1, 1, 1, 3, 1, 0, 3, 3, 1, 1, 1, 3, 3, 1, 3, 1, 3, 3, 3,\n",
       "       1, 1, 3, 1, 1, 1, 1, 3, 3, 5, 0, 0, 5, 2, 5, 2, 2, 1, 1, 1, 0, 1, 0,\n",
       "       1, 4, 1, 4, 0, 4, 0, 0, 0, 0, 1, 0, 0, 3, 0, 1, 4, 1, 4, 1, 3, 3, 3,\n",
       "       1, 0, 3, 3, 1, 1, 3, 1, 3, 0, 4, 0, 3, 1, 1, 1, 3, 4, 1, 3, 0, 0, 0,\n",
       "       4, 3, 3, 0, 1, 1, 4, 0, 3, 1, 4, 0, 1, 1, 0, 3, 1, 1, 0, 5, 4, 3, 4,\n",
       "       2, 2, 2, 2, 2, 3, 2, 2, 2, 2, 2, 2, 2, 3, 0, 0, 5, 2, 2, 5, 1, 0, 5,\n",
       "       4, 4, 4, 4, 4, 4, 0, 1, 1, 1, 1, 2, 2, 2, 5, 1, 3, 3, 0, 5, 3, 0, 0,\n",
       "       0, 0, 0, 0, 0, 0, 4, 4, 3, 1, 1, 1, 1, 1, 3, 1, 1, 1, 1, 1, 2, 0, 2,\n",
       "       2, 1, 1, 1], dtype=int32)"
      ]
     },
     "execution_count": 38,
     "metadata": {},
     "output_type": "execute_result"
    }
   ],
   "source": [
    "clusters"
   ]
  },
  {
   "cell_type": "code",
   "execution_count": 56,
   "metadata": {
    "collapsed": false
   },
   "outputs": [
    {
     "data": {
      "text/html": [
       "<div style=\"max-height:1000px;max-width:1500px;overflow:auto;\">\n",
       "<table border=\"1\" class=\"dataframe\">\n",
       "  <thead>\n",
       "    <tr style=\"text-align: right;\">\n",
       "      <th></th>\n",
       "      <th>Author</th>\n",
       "      <th>Genre</th>\n",
       "      <th>Height</th>\n",
       "      <th>Publisher</th>\n",
       "      <th>cluster</th>\n",
       "    </tr>\n",
       "    <tr>\n",
       "      <th>Title</th>\n",
       "      <th></th>\n",
       "      <th></th>\n",
       "      <th></th>\n",
       "      <th></th>\n",
       "      <th></th>\n",
       "    </tr>\n",
       "  </thead>\n",
       "  <tbody>\n",
       "    <tr>\n",
       "      <th>Fundamentals of Wavelets</th>\n",
       "      <td>goswami</td>\n",
       "      <td>signal_processing</td>\n",
       "      <td>228</td>\n",
       "      <td>Wiley</td>\n",
       "      <td>2</td>\n",
       "    </tr>\n",
       "    <tr>\n",
       "      <th>Image Processing &amp; Mathematical Morphology</th>\n",
       "      <td>shih</td>\n",
       "      <td>signal_processing</td>\n",
       "      <td>241</td>\n",
       "      <td>CRC</td>\n",
       "      <td>2</td>\n",
       "    </tr>\n",
       "    <tr>\n",
       "      <th>How to Think Like Sherlock Holmes</th>\n",
       "      <td>konnikova</td>\n",
       "      <td>psychology</td>\n",
       "      <td>240</td>\n",
       "      <td>Penguin</td>\n",
       "      <td>2</td>\n",
       "    </tr>\n",
       "    <tr>\n",
       "      <th>Birth of a Theorem</th>\n",
       "      <td>villani</td>\n",
       "      <td>mathematics</td>\n",
       "      <td>234</td>\n",
       "      <td>Bodley Head</td>\n",
       "      <td>2</td>\n",
       "    </tr>\n",
       "    <tr>\n",
       "      <th>Structure &amp; Interpretation of Computer Programs</th>\n",
       "      <td>sussman</td>\n",
       "      <td>computer_science</td>\n",
       "      <td>240</td>\n",
       "      <td>MIT Press</td>\n",
       "      <td>2</td>\n",
       "    </tr>\n",
       "    <tr>\n",
       "      <th>Making Software</th>\n",
       "      <td>oram</td>\n",
       "      <td>computer_science</td>\n",
       "      <td>232</td>\n",
       "      <td>O'Reilly</td>\n",
       "      <td>2</td>\n",
       "    </tr>\n",
       "    <tr>\n",
       "      <th>Analysis, Vol I</th>\n",
       "      <td>tao</td>\n",
       "      <td>mathematics</td>\n",
       "      <td>248</td>\n",
       "      <td>HBA</td>\n",
       "      <td>2</td>\n",
       "    </tr>\n",
       "    <tr>\n",
       "      <th>Introduction to Algorithms</th>\n",
       "      <td>cormen</td>\n",
       "      <td>computer_science</td>\n",
       "      <td>234</td>\n",
       "      <td>MIT Press</td>\n",
       "      <td>2</td>\n",
       "    </tr>\n",
       "    <tr>\n",
       "      <th>Data Structures Using C &amp; C++</th>\n",
       "      <td>tanenbaum</td>\n",
       "      <td>computer_science</td>\n",
       "      <td>235</td>\n",
       "      <td>Prentice Hall</td>\n",
       "      <td>2</td>\n",
       "    </tr>\n",
       "    <tr>\n",
       "      <th>Principles of Communication Systems</th>\n",
       "      <td>taub</td>\n",
       "      <td>computer_science</td>\n",
       "      <td>240</td>\n",
       "      <td>TMH</td>\n",
       "      <td>2</td>\n",
       "    </tr>\n",
       "    <tr>\n",
       "      <th>Let Us C</th>\n",
       "      <td>kanetkar</td>\n",
       "      <td>computer_science</td>\n",
       "      <td>213</td>\n",
       "      <td>Prentice Hall</td>\n",
       "      <td>2</td>\n",
       "    </tr>\n",
       "    <tr>\n",
       "      <th>Final Crisis</th>\n",
       "      <td>nan</td>\n",
       "      <td>comic</td>\n",
       "      <td>257</td>\n",
       "      <td>NaN</td>\n",
       "      <td>2</td>\n",
       "    </tr>\n",
       "    <tr>\n",
       "      <th>Killing Joke, The</th>\n",
       "      <td>nan</td>\n",
       "      <td>comic</td>\n",
       "      <td>283</td>\n",
       "      <td>NaN</td>\n",
       "      <td>2</td>\n",
       "    </tr>\n",
       "    <tr>\n",
       "      <th>Flashpoint</th>\n",
       "      <td>nan</td>\n",
       "      <td>comic</td>\n",
       "      <td>265</td>\n",
       "      <td>NaN</td>\n",
       "      <td>2</td>\n",
       "    </tr>\n",
       "    <tr>\n",
       "      <th>Batman Earth One</th>\n",
       "      <td>nan</td>\n",
       "      <td>comic</td>\n",
       "      <td>265</td>\n",
       "      <td>NaN</td>\n",
       "      <td>2</td>\n",
       "    </tr>\n",
       "    <tr>\n",
       "      <th>Crisis on Infinite Earths</th>\n",
       "      <td>nan</td>\n",
       "      <td>comic</td>\n",
       "      <td>258</td>\n",
       "      <td>NaN</td>\n",
       "      <td>2</td>\n",
       "    </tr>\n",
       "    <tr>\n",
       "      <th>Superman Earth One - 1</th>\n",
       "      <td>nan</td>\n",
       "      <td>comic</td>\n",
       "      <td>259</td>\n",
       "      <td>NaN</td>\n",
       "      <td>2</td>\n",
       "    </tr>\n",
       "    <tr>\n",
       "      <th>Superman Earth One - 2</th>\n",
       "      <td>nan</td>\n",
       "      <td>comic</td>\n",
       "      <td>258</td>\n",
       "      <td>NaN</td>\n",
       "      <td>2</td>\n",
       "    </tr>\n",
       "    <tr>\n",
       "      <th>Justice League: Throne of Atlantis</th>\n",
       "      <td>nan</td>\n",
       "      <td>comic</td>\n",
       "      <td>258</td>\n",
       "      <td>NaN</td>\n",
       "      <td>2</td>\n",
       "    </tr>\n",
       "    <tr>\n",
       "      <th>Justice League: The Villain's Journey</th>\n",
       "      <td>nan</td>\n",
       "      <td>comic</td>\n",
       "      <td>258</td>\n",
       "      <td>NaN</td>\n",
       "      <td>2</td>\n",
       "    </tr>\n",
       "    <tr>\n",
       "      <th>Death of Superman, The</th>\n",
       "      <td>nan</td>\n",
       "      <td>comic</td>\n",
       "      <td>258</td>\n",
       "      <td>NaN</td>\n",
       "      <td>2</td>\n",
       "    </tr>\n",
       "    <tr>\n",
       "      <th>History of the DC Universe</th>\n",
       "      <td>nan</td>\n",
       "      <td>comic</td>\n",
       "      <td>258</td>\n",
       "      <td>NaN</td>\n",
       "      <td>2</td>\n",
       "    </tr>\n",
       "    <tr>\n",
       "      <th>Batman: The Long Halloween</th>\n",
       "      <td>nan</td>\n",
       "      <td>comic</td>\n",
       "      <td>258</td>\n",
       "      <td>NaN</td>\n",
       "      <td>2</td>\n",
       "    </tr>\n",
       "    <tr>\n",
       "      <th>Power Electronics - Rashid</th>\n",
       "      <td>rashid</td>\n",
       "      <td>computer_science</td>\n",
       "      <td>235</td>\n",
       "      <td>NaN</td>\n",
       "      <td>2</td>\n",
       "    </tr>\n",
       "    <tr>\n",
       "      <th>Power Electronics - Mohan</th>\n",
       "      <td>mohan</td>\n",
       "      <td>computer_science</td>\n",
       "      <td>237</td>\n",
       "      <td>NaN</td>\n",
       "      <td>2</td>\n",
       "    </tr>\n",
       "    <tr>\n",
       "      <th>Pointers in C</th>\n",
       "      <td>kanetkar</td>\n",
       "      <td>computer_science</td>\n",
       "      <td>213</td>\n",
       "      <td>NaN</td>\n",
       "      <td>2</td>\n",
       "    </tr>\n",
       "    <tr>\n",
       "      <th>Cathedral and the Bazaar, The</th>\n",
       "      <td>raymond</td>\n",
       "      <td>computer_science</td>\n",
       "      <td>217</td>\n",
       "      <td>NaN</td>\n",
       "      <td>2</td>\n",
       "    </tr>\n",
       "    <tr>\n",
       "      <th>Design with OpAmps</th>\n",
       "      <td>franco</td>\n",
       "      <td>computer_science</td>\n",
       "      <td>240</td>\n",
       "      <td>NaN</td>\n",
       "      <td>2</td>\n",
       "    </tr>\n",
       "    <tr>\n",
       "      <th>Batman Handbook</th>\n",
       "      <td>nan</td>\n",
       "      <td>comic</td>\n",
       "      <td>270</td>\n",
       "      <td>NaN</td>\n",
       "      <td>2</td>\n",
       "    </tr>\n",
       "    <tr>\n",
       "      <th>Structure and Randomness</th>\n",
       "      <td>tao</td>\n",
       "      <td>mathematics</td>\n",
       "      <td>252</td>\n",
       "      <td>NaN</td>\n",
       "      <td>2</td>\n",
       "    </tr>\n",
       "    <tr>\n",
       "      <th>Image Processing with MATLAB</th>\n",
       "      <td>eddins</td>\n",
       "      <td>signal_processing</td>\n",
       "      <td>241</td>\n",
       "      <td>NaN</td>\n",
       "      <td>2</td>\n",
       "    </tr>\n",
       "  </tbody>\n",
       "</table>\n",
       "</div>"
      ],
      "text/plain": [
       "                                                    Author              Genre  \\\n",
       "Title                                                                           \n",
       "Fundamentals of Wavelets                           goswami  signal_processing   \n",
       "Image Processing & Mathematical Morphology            shih  signal_processing   \n",
       "How to Think Like Sherlock Holmes                konnikova         psychology   \n",
       "Birth of a Theorem                                 villani        mathematics   \n",
       "Structure & Interpretation of Computer Programs    sussman   computer_science   \n",
       "Making Software                                       oram   computer_science   \n",
       "Analysis, Vol I                                        tao        mathematics   \n",
       "Introduction to Algorithms                          cormen   computer_science   \n",
       "Data Structures Using C & C++                    tanenbaum   computer_science   \n",
       "Principles of Communication Systems                   taub   computer_science   \n",
       "Let Us C                                          kanetkar   computer_science   \n",
       "Final Crisis                                           nan              comic   \n",
       "Killing Joke, The                                      nan              comic   \n",
       "Flashpoint                                             nan              comic   \n",
       "Batman Earth One                                       nan              comic   \n",
       "Crisis on Infinite Earths                              nan              comic   \n",
       "Superman Earth One - 1                                 nan              comic   \n",
       "Superman Earth One - 2                                 nan              comic   \n",
       "Justice League: Throne of Atlantis                     nan              comic   \n",
       "Justice League: The Villain's Journey                  nan              comic   \n",
       "Death of Superman, The                                 nan              comic   \n",
       "History of the DC Universe                             nan              comic   \n",
       "Batman: The Long Halloween                             nan              comic   \n",
       "Power Electronics - Rashid                          rashid   computer_science   \n",
       "Power Electronics - Mohan                            mohan   computer_science   \n",
       "Pointers in C                                     kanetkar   computer_science   \n",
       "Cathedral and the Bazaar, The                      raymond   computer_science   \n",
       "Design with OpAmps                                  franco   computer_science   \n",
       "Batman Handbook                                        nan              comic   \n",
       "Structure and Randomness                               tao        mathematics   \n",
       "Image Processing with MATLAB                        eddins  signal_processing   \n",
       "\n",
       "                                                 Height      Publisher  \\\n",
       "Title                                                                    \n",
       "Fundamentals of Wavelets                            228          Wiley   \n",
       "Image Processing & Mathematical Morphology          241            CRC   \n",
       "How to Think Like Sherlock Holmes                   240        Penguin   \n",
       "Birth of a Theorem                                  234    Bodley Head   \n",
       "Structure & Interpretation of Computer Programs     240      MIT Press   \n",
       "Making Software                                     232       O'Reilly   \n",
       "Analysis, Vol I                                     248            HBA   \n",
       "Introduction to Algorithms                          234      MIT Press   \n",
       "Data Structures Using C & C++                       235  Prentice Hall   \n",
       "Principles of Communication Systems                 240            TMH   \n",
       "Let Us C                                            213  Prentice Hall   \n",
       "Final Crisis                                        257            NaN   \n",
       "Killing Joke, The                                   283            NaN   \n",
       "Flashpoint                                          265            NaN   \n",
       "Batman Earth One                                    265            NaN   \n",
       "Crisis on Infinite Earths                           258            NaN   \n",
       "Superman Earth One - 1                              259            NaN   \n",
       "Superman Earth One - 2                              258            NaN   \n",
       "Justice League: Throne of Atlantis                  258            NaN   \n",
       "Justice League: The Villain's Journey               258            NaN   \n",
       "Death of Superman, The                              258            NaN   \n",
       "History of the DC Universe                          258            NaN   \n",
       "Batman: The Long Halloween                          258            NaN   \n",
       "Power Electronics - Rashid                          235            NaN   \n",
       "Power Electronics - Mohan                           237            NaN   \n",
       "Pointers in C                                       213            NaN   \n",
       "Cathedral and the Bazaar, The                       217            NaN   \n",
       "Design with OpAmps                                  240            NaN   \n",
       "Batman Handbook                                     270            NaN   \n",
       "Structure and Randomness                            252            NaN   \n",
       "Image Processing with MATLAB                        241            NaN   \n",
       "\n",
       "                                                 cluster  \n",
       "Title                                                     \n",
       "Fundamentals of Wavelets                               2  \n",
       "Image Processing & Mathematical Morphology             2  \n",
       "How to Think Like Sherlock Holmes                      2  \n",
       "Birth of a Theorem                                     2  \n",
       "Structure & Interpretation of Computer Programs        2  \n",
       "Making Software                                        2  \n",
       "Analysis, Vol I                                        2  \n",
       "Introduction to Algorithms                             2  \n",
       "Data Structures Using C & C++                          2  \n",
       "Principles of Communication Systems                    2  \n",
       "Let Us C                                               2  \n",
       "Final Crisis                                           2  \n",
       "Killing Joke, The                                      2  \n",
       "Flashpoint                                             2  \n",
       "Batman Earth One                                       2  \n",
       "Crisis on Infinite Earths                              2  \n",
       "Superman Earth One - 1                                 2  \n",
       "Superman Earth One - 2                                 2  \n",
       "Justice League: Throne of Atlantis                     2  \n",
       "Justice League: The Villain's Journey                  2  \n",
       "Death of Superman, The                                 2  \n",
       "History of the DC Universe                             2  \n",
       "Batman: The Long Halloween                             2  \n",
       "Power Electronics - Rashid                             2  \n",
       "Power Electronics - Mohan                              2  \n",
       "Pointers in C                                          2  \n",
       "Cathedral and the Bazaar, The                          2  \n",
       "Design with OpAmps                                     2  \n",
       "Batman Handbook                                        2  \n",
       "Structure and Randomness                               2  \n",
       "Image Processing with MATLAB                           2  "
      ]
     },
     "execution_count": 56,
     "metadata": {},
     "output_type": "execute_result"
    }
   ],
   "source": [
    "df[df.cluster == 2]"
   ]
  },
  {
   "cell_type": "code",
   "execution_count": 57,
   "metadata": {
    "collapsed": false
   },
   "outputs": [],
   "source": [
    "from sklearn.mixture import GMM\n",
    "gmm = GMM(n_components=6)"
   ]
  },
  {
   "cell_type": "code",
   "execution_count": 64,
   "metadata": {
    "collapsed": false
   },
   "outputs": [],
   "source": [
    "gmm.fit(x_red)\n",
    "gmm_clus = gmm.predict(x_red)"
   ]
  },
  {
   "cell_type": "code",
   "execution_count": 65,
   "metadata": {
    "collapsed": true
   },
   "outputs": [],
   "source": [
    "df['gmm_clusters'] = gmm_clus"
   ]
  },
  {
   "cell_type": "code",
   "execution_count": 66,
   "metadata": {
    "collapsed": false
   },
   "outputs": [
    {
     "data": {
      "text/plain": [
       "2    47\n",
       "4    46\n",
       "3    41\n",
       "1    36\n",
       "5    25\n",
       "0    16\n",
       "dtype: int64"
      ]
     },
     "execution_count": 66,
     "metadata": {},
     "output_type": "execute_result"
    }
   ],
   "source": [
    "df.gmm_clusters.value_counts()"
   ]
  },
  {
   "cell_type": "code",
   "execution_count": 75,
   "metadata": {
    "collapsed": false
   },
   "outputs": [
    {
     "data": {
      "text/html": [
       "<div style=\"max-height:1000px;max-width:1500px;overflow:auto;\">\n",
       "<table border=\"1\" class=\"dataframe\">\n",
       "  <thead>\n",
       "    <tr style=\"text-align: right;\">\n",
       "      <th></th>\n",
       "      <th>Author</th>\n",
       "      <th>Genre</th>\n",
       "      <th>Height</th>\n",
       "      <th>Publisher</th>\n",
       "      <th>cluster</th>\n",
       "      <th>gmm_clusters</th>\n",
       "    </tr>\n",
       "    <tr>\n",
       "      <th>Title</th>\n",
       "      <th></th>\n",
       "      <th></th>\n",
       "      <th></th>\n",
       "      <th></th>\n",
       "      <th></th>\n",
       "      <th></th>\n",
       "    </tr>\n",
       "  </thead>\n",
       "  <tbody>\n",
       "    <tr>\n",
       "      <th>Fundamentals of Wavelets</th>\n",
       "      <td>goswami</td>\n",
       "      <td>signal_processing</td>\n",
       "      <td>228</td>\n",
       "      <td>Wiley</td>\n",
       "      <td>2</td>\n",
       "      <td>5</td>\n",
       "    </tr>\n",
       "    <tr>\n",
       "      <th>Image Processing &amp; Mathematical Morphology</th>\n",
       "      <td>shih</td>\n",
       "      <td>signal_processing</td>\n",
       "      <td>241</td>\n",
       "      <td>CRC</td>\n",
       "      <td>2</td>\n",
       "      <td>5</td>\n",
       "    </tr>\n",
       "    <tr>\n",
       "      <th>How to Think Like Sherlock Holmes</th>\n",
       "      <td>konnikova</td>\n",
       "      <td>psychology</td>\n",
       "      <td>240</td>\n",
       "      <td>Penguin</td>\n",
       "      <td>2</td>\n",
       "      <td>5</td>\n",
       "    </tr>\n",
       "    <tr>\n",
       "      <th>Structure &amp; Interpretation of Computer Programs</th>\n",
       "      <td>sussman</td>\n",
       "      <td>computer_science</td>\n",
       "      <td>240</td>\n",
       "      <td>MIT Press</td>\n",
       "      <td>2</td>\n",
       "      <td>5</td>\n",
       "    </tr>\n",
       "    <tr>\n",
       "      <th>Making Software</th>\n",
       "      <td>oram</td>\n",
       "      <td>computer_science</td>\n",
       "      <td>232</td>\n",
       "      <td>O'Reilly</td>\n",
       "      <td>2</td>\n",
       "      <td>5</td>\n",
       "    </tr>\n",
       "    <tr>\n",
       "      <th>Introduction to Algorithms</th>\n",
       "      <td>cormen</td>\n",
       "      <td>computer_science</td>\n",
       "      <td>234</td>\n",
       "      <td>MIT Press</td>\n",
       "      <td>2</td>\n",
       "      <td>5</td>\n",
       "    </tr>\n",
       "    <tr>\n",
       "      <th>Data Structures Using C &amp; C++</th>\n",
       "      <td>tanenbaum</td>\n",
       "      <td>computer_science</td>\n",
       "      <td>235</td>\n",
       "      <td>Prentice Hall</td>\n",
       "      <td>2</td>\n",
       "      <td>5</td>\n",
       "    </tr>\n",
       "    <tr>\n",
       "      <th>Principles of Communication Systems</th>\n",
       "      <td>taub</td>\n",
       "      <td>computer_science</td>\n",
       "      <td>240</td>\n",
       "      <td>TMH</td>\n",
       "      <td>2</td>\n",
       "      <td>5</td>\n",
       "    </tr>\n",
       "    <tr>\n",
       "      <th>Final Crisis</th>\n",
       "      <td>nan</td>\n",
       "      <td>comic</td>\n",
       "      <td>257</td>\n",
       "      <td>NaN</td>\n",
       "      <td>2</td>\n",
       "      <td>5</td>\n",
       "    </tr>\n",
       "    <tr>\n",
       "      <th>Killing Joke, The</th>\n",
       "      <td>nan</td>\n",
       "      <td>comic</td>\n",
       "      <td>283</td>\n",
       "      <td>NaN</td>\n",
       "      <td>2</td>\n",
       "      <td>5</td>\n",
       "    </tr>\n",
       "    <tr>\n",
       "      <th>Flashpoint</th>\n",
       "      <td>nan</td>\n",
       "      <td>comic</td>\n",
       "      <td>265</td>\n",
       "      <td>NaN</td>\n",
       "      <td>2</td>\n",
       "      <td>5</td>\n",
       "    </tr>\n",
       "    <tr>\n",
       "      <th>Batman Earth One</th>\n",
       "      <td>nan</td>\n",
       "      <td>comic</td>\n",
       "      <td>265</td>\n",
       "      <td>NaN</td>\n",
       "      <td>2</td>\n",
       "      <td>5</td>\n",
       "    </tr>\n",
       "    <tr>\n",
       "      <th>Crisis on Infinite Earths</th>\n",
       "      <td>nan</td>\n",
       "      <td>comic</td>\n",
       "      <td>258</td>\n",
       "      <td>NaN</td>\n",
       "      <td>2</td>\n",
       "      <td>5</td>\n",
       "    </tr>\n",
       "    <tr>\n",
       "      <th>Superman Earth One - 1</th>\n",
       "      <td>nan</td>\n",
       "      <td>comic</td>\n",
       "      <td>259</td>\n",
       "      <td>NaN</td>\n",
       "      <td>2</td>\n",
       "      <td>5</td>\n",
       "    </tr>\n",
       "    <tr>\n",
       "      <th>Superman Earth One - 2</th>\n",
       "      <td>nan</td>\n",
       "      <td>comic</td>\n",
       "      <td>258</td>\n",
       "      <td>NaN</td>\n",
       "      <td>2</td>\n",
       "      <td>5</td>\n",
       "    </tr>\n",
       "    <tr>\n",
       "      <th>Justice League: Throne of Atlantis</th>\n",
       "      <td>nan</td>\n",
       "      <td>comic</td>\n",
       "      <td>258</td>\n",
       "      <td>NaN</td>\n",
       "      <td>2</td>\n",
       "      <td>5</td>\n",
       "    </tr>\n",
       "    <tr>\n",
       "      <th>Justice League: The Villain's Journey</th>\n",
       "      <td>nan</td>\n",
       "      <td>comic</td>\n",
       "      <td>258</td>\n",
       "      <td>NaN</td>\n",
       "      <td>2</td>\n",
       "      <td>5</td>\n",
       "    </tr>\n",
       "    <tr>\n",
       "      <th>Death of Superman, The</th>\n",
       "      <td>nan</td>\n",
       "      <td>comic</td>\n",
       "      <td>258</td>\n",
       "      <td>NaN</td>\n",
       "      <td>2</td>\n",
       "      <td>5</td>\n",
       "    </tr>\n",
       "    <tr>\n",
       "      <th>History of the DC Universe</th>\n",
       "      <td>nan</td>\n",
       "      <td>comic</td>\n",
       "      <td>258</td>\n",
       "      <td>NaN</td>\n",
       "      <td>2</td>\n",
       "      <td>5</td>\n",
       "    </tr>\n",
       "    <tr>\n",
       "      <th>Batman: The Long Halloween</th>\n",
       "      <td>nan</td>\n",
       "      <td>comic</td>\n",
       "      <td>258</td>\n",
       "      <td>NaN</td>\n",
       "      <td>2</td>\n",
       "      <td>5</td>\n",
       "    </tr>\n",
       "    <tr>\n",
       "      <th>Power Electronics - Rashid</th>\n",
       "      <td>rashid</td>\n",
       "      <td>computer_science</td>\n",
       "      <td>235</td>\n",
       "      <td>NaN</td>\n",
       "      <td>2</td>\n",
       "      <td>5</td>\n",
       "    </tr>\n",
       "    <tr>\n",
       "      <th>Power Electronics - Mohan</th>\n",
       "      <td>mohan</td>\n",
       "      <td>computer_science</td>\n",
       "      <td>237</td>\n",
       "      <td>NaN</td>\n",
       "      <td>2</td>\n",
       "      <td>5</td>\n",
       "    </tr>\n",
       "    <tr>\n",
       "      <th>Design with OpAmps</th>\n",
       "      <td>franco</td>\n",
       "      <td>computer_science</td>\n",
       "      <td>240</td>\n",
       "      <td>NaN</td>\n",
       "      <td>2</td>\n",
       "      <td>5</td>\n",
       "    </tr>\n",
       "    <tr>\n",
       "      <th>Batman Handbook</th>\n",
       "      <td>nan</td>\n",
       "      <td>comic</td>\n",
       "      <td>270</td>\n",
       "      <td>NaN</td>\n",
       "      <td>2</td>\n",
       "      <td>5</td>\n",
       "    </tr>\n",
       "    <tr>\n",
       "      <th>Image Processing with MATLAB</th>\n",
       "      <td>eddins</td>\n",
       "      <td>signal_processing</td>\n",
       "      <td>241</td>\n",
       "      <td>NaN</td>\n",
       "      <td>2</td>\n",
       "      <td>5</td>\n",
       "    </tr>\n",
       "  </tbody>\n",
       "</table>\n",
       "</div>"
      ],
      "text/plain": [
       "                                                    Author              Genre  \\\n",
       "Title                                                                           \n",
       "Fundamentals of Wavelets                           goswami  signal_processing   \n",
       "Image Processing & Mathematical Morphology            shih  signal_processing   \n",
       "How to Think Like Sherlock Holmes                konnikova         psychology   \n",
       "Structure & Interpretation of Computer Programs    sussman   computer_science   \n",
       "Making Software                                       oram   computer_science   \n",
       "Introduction to Algorithms                          cormen   computer_science   \n",
       "Data Structures Using C & C++                    tanenbaum   computer_science   \n",
       "Principles of Communication Systems                   taub   computer_science   \n",
       "Final Crisis                                           nan              comic   \n",
       "Killing Joke, The                                      nan              comic   \n",
       "Flashpoint                                             nan              comic   \n",
       "Batman Earth One                                       nan              comic   \n",
       "Crisis on Infinite Earths                              nan              comic   \n",
       "Superman Earth One - 1                                 nan              comic   \n",
       "Superman Earth One - 2                                 nan              comic   \n",
       "Justice League: Throne of Atlantis                     nan              comic   \n",
       "Justice League: The Villain's Journey                  nan              comic   \n",
       "Death of Superman, The                                 nan              comic   \n",
       "History of the DC Universe                             nan              comic   \n",
       "Batman: The Long Halloween                             nan              comic   \n",
       "Power Electronics - Rashid                          rashid   computer_science   \n",
       "Power Electronics - Mohan                            mohan   computer_science   \n",
       "Design with OpAmps                                  franco   computer_science   \n",
       "Batman Handbook                                        nan              comic   \n",
       "Image Processing with MATLAB                        eddins  signal_processing   \n",
       "\n",
       "                                                 Height      Publisher  \\\n",
       "Title                                                                    \n",
       "Fundamentals of Wavelets                            228          Wiley   \n",
       "Image Processing & Mathematical Morphology          241            CRC   \n",
       "How to Think Like Sherlock Holmes                   240        Penguin   \n",
       "Structure & Interpretation of Computer Programs     240      MIT Press   \n",
       "Making Software                                     232       O'Reilly   \n",
       "Introduction to Algorithms                          234      MIT Press   \n",
       "Data Structures Using C & C++                       235  Prentice Hall   \n",
       "Principles of Communication Systems                 240            TMH   \n",
       "Final Crisis                                        257            NaN   \n",
       "Killing Joke, The                                   283            NaN   \n",
       "Flashpoint                                          265            NaN   \n",
       "Batman Earth One                                    265            NaN   \n",
       "Crisis on Infinite Earths                           258            NaN   \n",
       "Superman Earth One - 1                              259            NaN   \n",
       "Superman Earth One - 2                              258            NaN   \n",
       "Justice League: Throne of Atlantis                  258            NaN   \n",
       "Justice League: The Villain's Journey               258            NaN   \n",
       "Death of Superman, The                              258            NaN   \n",
       "History of the DC Universe                          258            NaN   \n",
       "Batman: The Long Halloween                          258            NaN   \n",
       "Power Electronics - Rashid                          235            NaN   \n",
       "Power Electronics - Mohan                           237            NaN   \n",
       "Design with OpAmps                                  240            NaN   \n",
       "Batman Handbook                                     270            NaN   \n",
       "Image Processing with MATLAB                        241            NaN   \n",
       "\n",
       "                                                 cluster  gmm_clusters  \n",
       "Title                                                                   \n",
       "Fundamentals of Wavelets                               2             5  \n",
       "Image Processing & Mathematical Morphology             2             5  \n",
       "How to Think Like Sherlock Holmes                      2             5  \n",
       "Structure & Interpretation of Computer Programs        2             5  \n",
       "Making Software                                        2             5  \n",
       "Introduction to Algorithms                             2             5  \n",
       "Data Structures Using C & C++                          2             5  \n",
       "Principles of Communication Systems                    2             5  \n",
       "Final Crisis                                           2             5  \n",
       "Killing Joke, The                                      2             5  \n",
       "Flashpoint                                             2             5  \n",
       "Batman Earth One                                       2             5  \n",
       "Crisis on Infinite Earths                              2             5  \n",
       "Superman Earth One - 1                                 2             5  \n",
       "Superman Earth One - 2                                 2             5  \n",
       "Justice League: Throne of Atlantis                     2             5  \n",
       "Justice League: The Villain's Journey                  2             5  \n",
       "Death of Superman, The                                 2             5  \n",
       "History of the DC Universe                             2             5  \n",
       "Batman: The Long Halloween                             2             5  \n",
       "Power Electronics - Rashid                             2             5  \n",
       "Power Electronics - Mohan                              2             5  \n",
       "Design with OpAmps                                     2             5  \n",
       "Batman Handbook                                        2             5  \n",
       "Image Processing with MATLAB                           2             5  "
      ]
     },
     "execution_count": 75,
     "metadata": {},
     "output_type": "execute_result"
    }
   ],
   "source": [
    "df[df.gmm_clusters == 5]"
   ]
  },
  {
   "cell_type": "code",
   "execution_count": null,
   "metadata": {
    "collapsed": true
   },
   "outputs": [],
   "source": []
  }
 ],
 "metadata": {
  "kernelspec": {
   "display_name": "Python 2",
   "language": "python",
   "name": "python2"
  },
  "language_info": {
   "codemirror_mode": {
    "name": "ipython",
    "version": 2
   },
   "file_extension": ".py",
   "mimetype": "text/x-python",
   "name": "python",
   "nbconvert_exporter": "python",
   "pygments_lexer": "ipython2",
   "version": "2.7.10"
  }
 },
 "nbformat": 4,
 "nbformat_minor": 0
}
